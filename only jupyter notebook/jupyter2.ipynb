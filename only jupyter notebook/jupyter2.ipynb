{
 "cells": [
  {
   "cell_type": "markdown",
   "id": "4df214c1-896a-4ff9-b41f-45a5068a7d2f",
   "metadata": {},
   "source": [
    "#AIRTHMATICS OPERATION:-"
   ]
  },
  {
   "cell_type": "code",
   "execution_count": 3,
   "id": "4f0386a1-4a8e-4cff-a9c8-aab50aefb27f",
   "metadata": {},
   "outputs": [],
   "source": [
    "import numpy as np \n",
    "# * multiply\n",
    "# **  power\n",
    "# /  divide \n",
    "# %  modulus (reminder)\n",
    "# 1/a  reciprocal\n"
   ]
  },
  {
   "cell_type": "code",
   "execution_count": 5,
   "id": "23704d9f-bba5-4ad1-be61-4e7116eb9211",
   "metadata": {},
   "outputs": [
    {
     "name": "stdout",
     "output_type": "stream",
     "text": [
      "sum:-  [2 4 6]\n"
     ]
    }
   ],
   "source": [
    "a=np.array([4,6,2])\n",
    "b=np.array([4,6,2])\n",
    "print(\"sum:- \", a+b)"
   ]
  },
  {
   "cell_type": "code",
   "execution_count": 16,
   "id": "a7949f87-a318-4a6d-a387-32995f578799",
   "metadata": {},
   "outputs": [
    {
     "name": "stdout",
     "output_type": "stream",
     "text": [
      "multiply:- [1 4 9]\n",
      "divide:- [1. 1. 1.]\n",
      "reminder:- [0 0 0]\n",
      "reciprocal:- [1.         0.5        0.33333333] [1.         0.5        0.33333333]\n",
      "power [1 4 9]\n",
      "[1. 2. 3.]\n"
     ]
    }
   ],
   "source": [
    "#Same as python function \n",
    "print(\"multiply:-\", a*b)\n",
    "print(\"divide:-\",a/b)\n",
    "print(\"reminder:-\",a%b)\n",
    "print(\"reciprocal:-\",1/a,1/b)\n",
    "print(\"power\",a**2)\n",
    "print(a/2+b/2)"
   ]
  },
  {
   "cell_type": "markdown",
   "id": "9fb4130d-0517-4acf-b55e-216339232692",
   "metadata": {},
   "source": [
    "#opperation function mathsmatics \n"
   ]
  },
  {
   "cell_type": "code",
   "execution_count": 22,
   "id": "98b3c18b-7ed2-406b-8fdf-51588cb4b32d",
   "metadata": {},
   "outputs": [
    {
     "name": "stdout",
     "output_type": "stream",
     "text": [
      "addition is:- [ 0 18 16] or same method:- [ 0 18 16]\n",
      "not addition:- [17 26 25]\n"
     ]
    }
   ],
   "source": [
    "s=np.array([0,9,8])\n",
    "d=np.array([0,9,8])\n",
    "print(\"addition is:-\",np.add(s,d) ,\"or same method:-\",np.array([0,9,8])+np.array([0,9,8]))    #add fun is imp for adding two numbers:-\n",
    "print(\"not addition:-\",sum(s,d))     # i don't know about this function "
   ]
  },
  {
   "cell_type": "code",
   "execution_count": 31,
   "id": "5dbf619e-0d2c-4762-b091-2466e1d05d79",
   "metadata": {},
   "outputs": [
    {
     "name": "stdout",
     "output_type": "stream",
     "text": [
      "mult [0 0 0]\n",
      "div:- [-0. inf inf]\n",
      "reci:- [-2147483648           0           0]\n",
      "rem:- [0 0 0]\n"
     ]
    },
    {
     "name": "stderr",
     "output_type": "stream",
     "text": [
      "C:\\Users\\DUSHYANT\\AppData\\Local\\Temp\\ipykernel_21952\\881225770.py:2: RuntimeWarning: divide by zero encountered in divide\n",
      "  print(\"div:-\",np.divide(s,d))\n",
      "C:\\Users\\DUSHYANT\\AppData\\Local\\Temp\\ipykernel_21952\\881225770.py:4: RuntimeWarning: divide by zero encountered in reciprocal\n",
      "  print(\"reci:-\",np.reciprocal(s,d))\n",
      "C:\\Users\\DUSHYANT\\AppData\\Local\\Temp\\ipykernel_21952\\881225770.py:4: RuntimeWarning: invalid value encountered in reciprocal\n",
      "  print(\"reci:-\",np.reciprocal(s,d))\n",
      "C:\\Users\\DUSHYANT\\AppData\\Local\\Temp\\ipykernel_21952\\881225770.py:5: RuntimeWarning: divide by zero encountered in remainder\n",
      "  print(\"rem:-\",np.mod(s,d))\n"
     ]
    }
   ],
   "source": [
    "print(\"mult\",np.multiply(s,d))\n",
    "print(\"div:-\",np.divide(s,d))\n",
    "#print(\"power:-\",np.power(s,d))\n",
    "print(\"reci:-\",np.reciprocal(s,d))\n",
    "print(\"rem:-\",np.mod(s,d))\n"
   ]
  },
  {
   "cell_type": "markdown",
   "id": "ac066dc2-7992-42fa-b88f-a2ee8716d437",
   "metadata": {},
   "source": [
    "#for n dimentionalarray\n"
   ]
  },
  {
   "cell_type": "code",
   "execution_count": 51,
   "id": "cce84c90-f56d-4708-8e86-98e9234940c5",
   "metadata": {},
   "outputs": [
    {
     "name": "stdout",
     "output_type": "stream",
     "text": [
      "[[1 2 3]\n",
      " [1 2 3]] int32\n"
     ]
    }
   ],
   "source": [
    "q=np.array([[1,2,3],[1,2,3]]) \n",
    "print(q,q.dtype)\n",
    "#only takes one or    #upper all functions is applycable:-"
   ]
  },
  {
   "cell_type": "code",
   "execution_count": null,
   "id": "b6fb9332-6a15-40ee-802b-ad5377087188",
   "metadata": {},
   "outputs": [],
   "source": []
  },
  {
   "cell_type": "code",
   "execution_count": 52,
   "id": "586f983b-5f0e-41e3-b086-9ea566e096b6",
   "metadata": {},
   "outputs": [
    {
     "name": "stdout",
     "output_type": "stream",
     "text": [
      "[[1 2 3]\n",
      " [1 2 3]]\n"
     ]
    }
   ],
   "source": [
    "q=np.array([[1,2,3],[1,2,3]],q.dtype)     #dtype  is notshowing datatype in np.array when you make a array!\n",
    "print(q)\n",
    "#only takes one in np.array, #upper all functions is applycable:-"
   ]
  },
  {
   "cell_type": "code",
   "execution_count": 58,
   "id": "810e201f-8649-4831-87a6-5e1161535676",
   "metadata": {},
   "outputs": [
    {
     "name": "stdout",
     "output_type": "stream",
     "text": [
      "int32 int32\n",
      "sum is:- [[[2 4]\n",
      "  [4 6]]]\n",
      "[[[1 4]\n",
      "  [3 8]]]\n"
     ]
    }
   ],
   "source": [
    "f=np.array([[[1,2],[3,4]]])\n",
    "p=np.array([[1,2],[1,2]])\n",
    "print(f.dtype,p.dtype)\n",
    "print(\"sum is:-\",np.add(f,p))\n",
    "print(\"multiply:-\",np.multiply(f,p))"
   ]
  },
  {
   "cell_type": "code",
   "execution_count": 64,
   "id": "3d6e36fb-ca0d-4a79-bb3f-072aef83b78f",
   "metadata": {},
   "outputs": [
    {
     "name": "stdout",
     "output_type": "stream",
     "text": [
      "54  or same as :- 54 1 1\n"
     ]
    }
   ],
   "source": [
    "k=np.array([1,4,8,50,54])                      ##same as python function \n",
    "print(max(k),\" or same as :-\" ,np.max(k),min(k),np.min(k))\n"
   ]
  },
  {
   "cell_type": "code",
   "execution_count": 77,
   "id": "3b3a1b14-ddd3-4567-8466-95ff60e8ecb9",
   "metadata": {},
   "outputs": [
    {
     "name": "stdout",
     "output_type": "stream",
     "text": [
      "[1.         2.         2.82842712 7.07106781 7.34846923]\n",
      "[ 0.84147098 -0.7568025   0.98935825 -0.26237485 -0.55878905] or 0.479425538604203\n",
      "[ 0.54030231 -0.65364362 -0.14550003  0.96496603 -0.82930983]\n",
      "index no of min value:- 0 index no of max value:- 4\n",
      "[  1   5  13  63 117]\n"
     ]
    }
   ],
   "source": [
    "print(np.sqrt(k))                #ONLY THOSE FUNCTION IS RUN only np.\n",
    "print(np.sin(k),\"or\",np.sin(1/2))\n",
    "print(np.cos(k))\n",
    "print(\"index no of min value:-\",np.argmin(k),\"index no of max value:-\",np.argmax(k))\n",
    "print(np.cumsum(k))      #sum deata hai ek kai bad ek ko jood detai hai exp:-[1,2,4,3]--->1+2,3+3,6+4so on....."
   ]
  },
  {
   "cell_type": "code",
   "execution_count": 76,
   "id": "908c3ca5-97d5-4e4d-862f-246e6c9c508d",
   "metadata": {},
   "outputs": [
    {
     "name": "stdout",
     "output_type": "stream",
     "text": [
      "[0 0 0]\n"
     ]
    }
   ],
   "source": [
    "#axis 0=column\n",
    "#axis 1=row          #not uderstand!\n",
    "w=np.array([[1,4,3],[9,5,7,]])\n",
    "print(np.argmin(w,axis=0))     "
   ]
  },
  {
   "cell_type": "code",
   "execution_count": 75,
   "id": "ecdd8a8d-f49e-4175-8b9c-91fbcb13d0e6",
   "metadata": {},
   "outputs": [
    {
     "name": "stdout",
     "output_type": "stream",
     "text": [
      "[1 4 3]\n"
     ]
    }
   ],
   "source": [
    "#axis 0=column\n",
    "#axis 1=row\n",
    "w=np.array([[1,4,3],[9,5,7,]])\n",
    "print(np.min(w,axis=0))"
   ]
  },
  {
   "cell_type": "markdown",
   "id": "b2619cc1-b43d-4e82-88c1-a127f7964c1b",
   "metadata": {},
   "source": [
    "#shape of numpy \n"
   ]
  },
  {
   "cell_type": "code",
   "execution_count": 79,
   "id": "e459e8b1-4ecb-4eea-b1a3-deb89be0ba29",
   "metadata": {},
   "outputs": [
    {
     "name": "stdout",
     "output_type": "stream",
     "text": [
      "(5,) (2, 3)\n"
     ]
    }
   ],
   "source": [
    "print(np.shape(k),np.shape(w))   #give dimention row and column"
   ]
  },
  {
   "cell_type": "code",
   "execution_count": 80,
   "id": "56afd71d-c489-46b3-baaa-fdc90b69e059",
   "metadata": {},
   "outputs": [
    {
     "name": "stdout",
     "output_type": "stream",
     "text": [
      "(1, 1, 1, 1, 7)\n"
     ]
    }
   ],
   "source": [
    "l=np.array([[[[[1,2,3,45,6,9]]]]])     #give no of column and element\n",
    "print(np.shape(l))                      "
   ]
  },
  {
   "cell_type": "code",
   "execution_count": 86,
   "id": "692a3e92-fe22-4511-868c-15dacba59c05",
   "metadata": {},
   "outputs": [
    {
     "name": "stdout",
     "output_type": "stream",
     "text": [
      "(1, 2, 3) (1, 2, 3) both of same method \n"
     ]
    }
   ],
   "source": [
    "x=np.array([[[1,2,3],[5,6,4.2]]])\n",
    "print(np.shape(x),x.shape ,\"both of same method \")"
   ]
  },
  {
   "cell_type": "markdown",
   "id": "1889a69e-9478-4eb8-82ca-7688657d7efc",
   "metadata": {},
   "source": [
    "#reshape any array "
   ]
  },
  {
   "cell_type": "code",
   "execution_count": 96,
   "id": "34d47fb3-122e-45bd-955b-621d0c6b3756",
   "metadata": {},
   "outputs": [
    {
     "name": "stdout",
     "output_type": "stream",
     "text": [
      "[[1 2 3]\n",
      " [4 5 6]] both same [[1 2]\n",
      " [3 4]\n",
      " [5 6]]\n"
     ]
    }
   ],
   "source": [
    "#print(np.reshape(l)) #not because halfe information \n",
    "c=np.array([1,2,3,4,5,6])\n",
    "print(c.reshape(2,3),\"both same fujnction \",c.reshape(3,2))            # ×         "
   ]
  },
  {
   "cell_type": "code",
   "execution_count": 101,
   "id": "da3303e4-4654-446d-9035-c1ec92a1e7d4",
   "metadata": {},
   "outputs": [
    {
     "name": "stdout",
     "output_type": "stream",
     "text": [
      "orignal Array:- [[[2 3]\n",
      "  [3 4]\n",
      "  [4 5]]]\n",
      "\n",
      "Reshaped array (1, 3, 2) (1, 3, 2) [2 3 3 4 4 5]\n"
     ]
    }
   ],
   "source": [
    "#for multidim array into 1D array \n",
    "aak=np.array([[[2,3],[3,4],[4,5]]])\n",
    "print(\"orignal Array:-\",aak)\n",
    "print()\n",
    "print(\"Reshaped array\",np.shape(aak),aak.shape,aak.reshape(-1))"
   ]
  },
  {
   "cell_type": "code",
   "execution_count": null,
   "id": "1bee3ce5-fe38-4c69-b9f9-bd7eb35d292a",
   "metadata": {},
   "outputs": [],
   "source": []
  }
 ],
 "metadata": {
  "kernelspec": {
   "display_name": "Python 3 (ipykernel)",
   "language": "python",
   "name": "python3"
  },
  "language_info": {
   "codemirror_mode": {
    "name": "ipython",
    "version": 3
   },
   "file_extension": ".py",
   "mimetype": "text/x-python",
   "name": "python",
   "nbconvert_exporter": "python",
   "pygments_lexer": "ipython3",
   "version": "3.12.0"
  }
 },
 "nbformat": 4,
 "nbformat_minor": 5
}
