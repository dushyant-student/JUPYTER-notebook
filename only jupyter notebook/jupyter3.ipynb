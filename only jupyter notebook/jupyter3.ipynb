{
 "cells": [
  {
   "cell_type": "code",
   "execution_count": 2,
   "id": "d4894db6-05f2-42f8-a40d-c669eef65d16",
   "metadata": {},
   "outputs": [
    {
     "name": "stdout",
     "output_type": "stream",
     "text": [
      "0\n",
      "1\n",
      "2\n",
      "3\n",
      "4\n"
     ]
    }
   ],
   "source": [
    "import numpy as np \n",
    "ar=np.array([1,2,3,4,5])\n",
    "l=len(ar)\n",
    "for i in range(l):\n",
    " print(i)"
   ]
  },
  {
   "cell_type": "code",
   "execution_count": 4,
   "id": "30ed693a-b5b9-4611-b2e3-f09463c3ee07",
   "metadata": {},
   "outputs": [
    {
     "name": "stdout",
     "output_type": "stream",
     "text": [
      "1\n",
      "2\n",
      "3\n",
      "4\n",
      "5\n"
     ]
    }
   ],
   "source": [
    "for i in range(5):\n",
    "    print(ar[i])\n",
    "    "
   ]
  },
  {
   "cell_type": "code",
   "execution_count": 23,
   "id": "b3599b3b-d61f-4b01-888e-f9a84541c6da",
   "metadata": {},
   "outputs": [
    {
     "name": "stdout",
     "output_type": "stream",
     "text": [
      "1\n",
      "2\n",
      "3\n",
      "4\n"
     ]
    }
   ],
   "source": [
    "sd=np.array([[1,2],[3,4]])\n",
    "for j in sd:\n",
    "  for g in j:          #Range depend on dimention of array prpostional to dimen!\n",
    "      print(g)\n",
    "    "
   ]
  },
  {
   "cell_type": "code",
   "execution_count": 27,
   "id": "c717d555-2a6a-414c-9f00-a4819bad81f5",
   "metadata": {},
   "outputs": [
    {
     "name": "stdout",
     "output_type": "stream",
     "text": [
      "3\n",
      "1\n",
      "2\n",
      "3\n",
      "4\n"
     ]
    }
   ],
   "source": [
    "#for example of 3d array \n",
    "d=np.array([[[1,2],[3,4]]])\n",
    "print(d.ndim)\n",
    "for i in d:\n",
    "    for k in i:      #3d array make 3 loops \n",
    "        for s in k:\n",
    "            print(s)"
   ]
  },
  {
   "cell_type": "code",
   "execution_count": 30,
   "id": "629a5899-799c-4b71-837f-cf9153d17bb3",
   "metadata": {},
   "outputs": [
    {
     "name": "stdout",
     "output_type": "stream",
     "text": [
      "1\n",
      "2\n",
      "3\n",
      "4\n"
     ]
    }
   ],
   "source": [
    "#SHORT METHOD for continous loop\n",
    "for i in np.nditer(d):\n",
    "    print(i)"
   ]
  },
  {
   "cell_type": "markdown",
   "id": "5fb9db5c-db3e-4478-bd5c-eff238746ef0",
   "metadata": {},
   "source": [
    "scilicing with indexing no:-"
   ]
  },
  {
   "cell_type": "code",
   "execution_count": 7,
   "id": "127dd5d9-b9e9-46af-9df0-60af49e31aa8",
   "metadata": {},
   "outputs": [
    {
     "name": "stdout",
     "output_type": "stream",
     "text": [
      "(0,) 1\n",
      "(1,) 2\n",
      "(2,) 3\n",
      "(3,) 4\n"
     ]
    }
   ],
   "source": [
    "d=np.array([1,2,3,4])        #give index no with value:-\n",
    "for k,f in np.ndenumerate(d):\n",
    " print(k,f)"
   ]
  },
  {
   "cell_type": "code",
   "execution_count": 11,
   "id": "d5e7d47f-3c3e-44ad-8f56-ed9111d026d9",
   "metadata": {},
   "outputs": [
    {
     "name": "stdout",
     "output_type": "stream",
     "text": [
      "(0, 0, 0) 2\n",
      "(0, 0, 1) 3\n",
      "(0, 1, 0) 1\n",
      "(0, 1, 1) 4\n",
      "(0, 2, 0) 3\n",
      "(0, 2, 1) 4\n"
     ]
    }
   ],
   "source": [
    "kp=np.array([[[2,3],[1,4],[3,4]]])\n",
    "for j,g in np.ndenumerate(kp):\n",
    "    print(j,g)\n",
    "    "
   ]
  },
  {
   "cell_type": "markdown",
   "id": "63bc430a-cf97-4dc3-9ad3-4d58e36f1c79",
   "metadata": {},
   "source": [
    "#copy Vs view function:-\n"
   ]
  },
  {
   "cell_type": "code",
   "execution_count": 22,
   "id": "a261ec38-d74c-487f-842e-fcc2716795fe",
   "metadata": {},
   "outputs": [
    {
     "name": "stdout",
     "output_type": "stream",
     "text": [
      "orignal; data:- [[ 2 99]\n",
      " [ 4  1]]\n",
      "copy data :- [[2 6]\n",
      " [4 1]]\n",
      "------->, same as method \n",
      "[[ 2 99]\n",
      " [ 4  1]]\n",
      "(0, 0) 2\n",
      "(0, 1) 99\n",
      "(1, 0) 4\n",
      "(1, 1) 1\n"
     ]
    }
   ],
   "source": [
    "\"\"\"#copy:- copy function has own data memory \n",
    "#copy array is a new array \n",
    "#dont change data iterlinkig data \n",
    "if you copy the data then dont change data of copy \"\"\"\n",
    "\n",
    "cp=np.array([[2,6],[4,1]])\n",
    "f=np.copy(cp)\n",
    "cp[0,1]=99\n",
    "print(\"orignal; data:-\",cp)\n",
    "print(\"copy data :-\",f)\n",
    "print(\"------->, same as method \")\n",
    "print(np.copy(cp))\n",
    "for w,v in np.ndenumerate(cp):\n",
    "    print(w,v)   #for finding indexing! and taking return value\n"
   ]
  },
  {
   "cell_type": "code",
   "execution_count": 37,
   "id": "a385745f-74c1-4193-9e65-87cb207d2825",
   "metadata": {},
   "outputs": [
    {
     "name": "stdout",
     "output_type": "stream",
     "text": [
      "orignal; data:- [[ 2 99]\n",
      " [ 4  1]]\n",
      "copy data :- [[2 6]\n",
      " [4 1]]\n",
      "------->, same as method \n",
      "<built-in method copy of numpy.ndarray object at 0x0000029FCA7E7B10>\n",
      "(0, 0) 2\n",
      "(0, 1) 99\n",
      "(1, 0) 4\n",
      "(1, 1) 1\n"
     ]
    }
   ],
   "source": [
    "cp=np.array([[2,6],[4,1]])\n",
    "f=np.copy(cp)\n",
    "cp[0,1]=99\n",
    "print(\"orignal; data:-\",cp)\n",
    "print(\"copy data :-\",f)\n",
    "print(\"------->, same as method \")\n",
    "print(cp.copy)\n",
    "for w,v in np.ndenumerate(cp):\n",
    "    print(w,v)   #for finding indexing! and taking return value\n"
   ]
  },
  {
   "cell_type": "code",
   "execution_count": 23,
   "id": "df4f9e84-b61e-4c4c-bbb3-ecbc35bec1d3",
   "metadata": {},
   "outputs": [
    {
     "name": "stdout",
     "output_type": "stream",
     "text": [
      "orignal; data:- [[ 2 77]\n",
      " [ 4  1]]\n",
      "copy data :- [[ 2 77]\n",
      " [ 4  1]]\n",
      "------->, same as method \n",
      "[[ 2 77]\n",
      " [ 4  1]]\n",
      "(0, 0) 2\n",
      "(0, 1) 77\n",
      "(1, 0) 4\n",
      "(1, 1) 1\n"
     ]
    }
   ],
   "source": [
    "#But if we put change indexing no before copy data Then change both data simuntanausely:-  Example\n",
    "\n",
    "cp=np.array([[2,6],[4,1]])\n",
    "cp[0,1]=77\n",
    "f=np.copy(cp)\n",
    "print(\"orignal; data:-\",cp)\n",
    "print(\"copy data :-\",f)\n",
    "print(\"------->, same as method \")\n",
    "print(np.copy(cp))\n",
    "for w,v in np.ndenumerate(cp):\n",
    "    print(w,v)   #for finding indexing! Both data changes copy and orignal data \n"
   ]
  },
  {
   "cell_type": "code",
   "execution_count": null,
   "id": "af6c4ea2-d0b7-4799-a584-31415a0006aa",
   "metadata": {},
   "outputs": [],
   "source": []
  },
  {
   "cell_type": "markdown",
   "id": "a03bc273-17aa-4a83-bbef-53e059a820b5",
   "metadata": {},
   "source": [
    "#VIEW function:-"
   ]
  },
  {
   "cell_type": "code",
   "execution_count": 35,
   "id": "7e70bb71-517a-4ca9-aeeb-360d81fa7ca9",
   "metadata": {},
   "outputs": [
    {
     "name": "stdout",
     "output_type": "stream",
     "text": [
      "<built-in method view of numpy.ndarray object at 0x0000016C43B07510>\n"
     ]
    }
   ],
   "source": [
    "vi=np.array([[[9,6],[6,5]]])\n",
    "#k=np.view(vi)\n",
    "#print(k)\n",
    "#print(np.view(vi))     #this method is not  correct!\n",
    "b=vi.view\n",
    "print(b)\n"
   ]
  },
  {
   "cell_type": "code",
   "execution_count": 31,
   "id": "8a1d7e8e-e269-42e0-9e2b-6f6562208097",
   "metadata": {},
   "outputs": [
    {
     "name": "stdout",
     "output_type": "stream",
     "text": [
      "<built-in method view of numpy.ndarray object at 0x0000029FCA711E90>\n",
      "index no:- (0, 0, 0) 9\n",
      "index no:- (0, 0, 1) 6\n",
      "index no:- (0, 1, 0) 6\n",
      "index no:- (0, 1, 1) 8\n",
      "orignal data:- [[[ 9  6]\n",
      "  [55  8]]]\n",
      "------>\n",
      "view data:- [[[ 9  6]\n",
      "  [55  8]]]\n"
     ]
    }
   ],
   "source": [
    "vi=np.array([[[9,6],[6,8]]])\n",
    "print(vi.view)\n",
    "for k,i in np.ndenumerate(vi):\n",
    "    print(\"index no:-\",k,i)\n",
    "vi[0,1,0]=55\n",
    "print(\"orignal data:-\",vi)\n",
    "print(\"------>\")\n",
    "print(\"view data:-\",vi)\n"
   ]
  },
  {
   "cell_type": "code",
   "execution_count": 32,
   "id": "33ff5f7c-f54c-40aa-895b-e61443400cff",
   "metadata": {},
   "outputs": [
    {
     "name": "stdout",
     "output_type": "stream",
     "text": [
      "<built-in method view of numpy.ndarray object at 0x0000029FCA7E77B0>\n",
      "index no:- (0, 0, 0) 9\n",
      "index no:- (0, 0, 1) 6\n",
      "index no:- (0, 1, 0) 88\n",
      "index no:- (0, 1, 1) 8\n",
      "orignal data:- [[[ 9  6]\n",
      "  [88  8]]]\n",
      "------>\n",
      "view data:- [[[ 9  6]\n",
      "  [88  8]]]\n"
     ]
    }
   ],
   "source": [
    "vi=np.array([[[9,6],[6,8]]])\n",
    "vi[0,1,0]=88      #Both data change as previous data! \n",
    "print(vi.view)\n",
    "for k,i in np.ndenumerate(vi):\n",
    "    print(\"index no:-\",k,i)\n",
    "print(\"orignal data:-\",vi)\n",
    "print(\"------>\")\n",
    "print(\"view data:-\",vi)\n"
   ]
  },
  {
   "cell_type": "markdown",
   "id": "ccfa11e9-0d5b-4a9e-9109-7434195ccead",
   "metadata": {},
   "source": [
    "#JOINIG ARRAY :-"
   ]
  },
  {
   "cell_type": "code",
   "execution_count": 30,
   "id": "e11e7dba-a746-464f-bbaf-82743996b8c7",
   "metadata": {},
   "outputs": [
    {
     "name": "stdout",
     "output_type": "stream",
     "text": [
      "new connect array without passing axis:- [1 2 3 4 1 2 3 4]\n",
      "method 2:----> \n",
      "\n",
      "new con array2 axis=1 [[[7 3]\n",
      "  [6 0]\n",
      "  [5 7]\n",
      "  [8 3]]]\n",
      "concatenate about axis=0:- [1 2 3 4 1 2 3 4]\n"
     ]
    }
   ],
   "source": [
    "#elements must be same for both numpy array \n",
    "ar=np.array([[[7,3],[6,0]]])\n",
    "ar2=np.array([[[5,7],[8,3]]])\n",
    "l=np.array([1,2,3,4])\n",
    "p=np.array([1,2,3,4])\n",
    "con=np.concatenate((l,p))     #NOTE this function  is work only 1 d array without passing indexing (list type)! it when works only when you does not pass axis \n",
    "print(\"new connect array without passing axis:-\",con)\n",
    "\n",
    "print(\"method 2:----> \")\n",
    "con2=np.concatenate((ar,ar2),axis=1)\n",
    "print(  )\n",
    "print(\"new con array2 axis=1\",con2)\n",
    "con3=np.concatenate((l,p),axis=0)\n",
    "print(\"concatenate about axis=0:-\",con3)\n"
   ]
  },
  {
   "cell_type": "markdown",
   "id": "48409c60-eda7-442f-aad6-0ad6bfc2516d",
   "metadata": {},
   "source": [
    "#STACK FUNCT CONCATENATE OF STRING!"
   ]
  },
  {
   "cell_type": "code",
   "execution_count": 46,
   "id": "42376dc5-8a39-4287-b199-10afa6cba070",
   "metadata": {},
   "outputs": [
    {
     "name": "stdout",
     "output_type": "stream",
     "text": [
      "simple stack data about axis=1, [[1 1]\n",
      " [2 2]\n",
      " [3 3]\n",
      " [4 4]]\n",
      "stack data about Row:- [1 2 3 4 1 2 3 4]\n",
      "\n",
      "along breath(column):- [[1 2 3 4]\n",
      " [1 2 3 4]]\n",
      "\n",
      "[[[1 1]\n",
      "  [2 2]\n",
      "  [3 3]\n",
      "  [4 4]]] :-Along Height!\n"
     ]
    }
   ],
   "source": [
    "l=np.array([1,2,3,4])\n",
    "p=np.array([1,2,3,4])\n",
    "stac=np.stack((l,p),axis=1)\n",
    "print(\"simple stack data about axis=1,\", stac)\n",
    "\n",
    "stack=np.hstack((l,p))     #stack along row (length)\n",
    "print(\"stack data about Row:-\",stack )\n",
    "print(    )\n",
    "\n",
    "q=np.vstack((l,p))    #about column(breath)\n",
    "print(\"along breath(column):-\",q)\n",
    "print(   )\n",
    "\n",
    "print(np.dstack((l,p)),\":-Along Height!\")    #Along height"
   ]
  },
  {
   "cell_type": "markdown",
   "id": "d7e0db89-cca9-4d24-b86f-a6df9fc9a61e",
   "metadata": {},
   "source": [
    "#SPLIT ARRAY INTO MANY ARARY:-"
   ]
  },
  {
   "cell_type": "code",
   "execution_count": 65,
   "id": "28bfe536-7879-4c8c-a775-e2dc5de203f7",
   "metadata": {},
   "outputs": [
    {
     "name": "stdout",
     "output_type": "stream",
     "text": [
      "split array:- [array([1, 2]), array([3, 4]), array([5, 6]), array([7, 8])]\n",
      "\n",
      "split 8 arrays:- [array([1]), array([2]), array([3]), array([4]), array([5]), array([6]), array([7]), array([8])]\n",
      "\n",
      "3d array spliyte:- [array([1, 2]), array([3, 4]), array([5, 6]), array([7, 8])]\n",
      "\n",
      "splite along axis=1:- [array([[1, 2]]), array([[3, 4]]), array([[5, 6]]), array([[7, 8]])]\n",
      "\n",
      "splite along axis=0:- [array([1, 2]), array([3, 4]), array([5, 6]), array([7, 8])]\n"
     ]
    }
   ],
   "source": [
    "sp=np.array([1,2,3,4,5,6,7,8])\n",
    "sp3=np.array([[1,2,3,4,5,6,7,8]])\n",
    "sp2=np.array([[[4,4],[4,4],[5,5],[5,5]]])        #Array splite in combination of array,in dictionary !\n",
    "split=np.split(sp,4)\n",
    "print(\"split array:-\", split)\n",
    "print(  )\n",
    "\n",
    "print(\"split 8 arrays:-\",np.split(sp,8))\n",
    "print()\n",
    "\n",
    "print(\"3d array spliyte:-\",split)\n",
    "print(   )\n",
    "\n",
    "print(\"splite along axis=1:-\",np.split(sp3,4,axis=1))       \n",
    "print( )\n",
    "print(\"splite along axis=0:-\",np.split(sp,4,axis=0))      "
   ]
  },
  {
   "cell_type": "markdown",
   "id": "858b7eda-ccc3-41b0-a600-02e111182bea",
   "metadata": {},
   "source": [
    "#Search (index no.)"
   ]
  },
  {
   "cell_type": "code",
   "execution_count": 82,
   "id": "0f7ce4c6-3bdb-40fe-a44c-42f5984cb0fc",
   "metadata": {},
   "outputs": [
    {
     "name": "stdout",
     "output_type": "stream",
     "text": [
      "(array([0, 3, 5], dtype=int64),)\n",
      "\n",
      "(array([], dtype=int64),)\n",
      "\n",
      "(array([0], dtype=int64),)\n",
      "\n",
      "12 index no!\n",
      "find index no by side wise! ---->  \n",
      "12\n",
      "---->\n",
      "[12 12 12]\n"
     ]
    },
    {
     "name": "stderr",
     "output_type": "stream",
     "text": [
      "C:\\Users\\DUSHYANT\\AppData\\Local\\Temp\\ipykernel_8752\\3764993888.py:8: DeprecationWarning: Calling nonzero on 0d arrays is deprecated, as it behaves surprisingly. Use `atleast_1d(arr).nonzero()` if the old behavior was intended.\n",
      "  print(np.where(\"e\"))\n"
     ]
    }
   ],
   "source": [
    "s=np.array([3,2,5,3,6,3,4,5,8,2,4,4])\n",
    "s2=np.array([\"e\",\"r\",\"t\",\"yu\",\"u\",\"d\",\"yt\",\"e\",\"e\",3,5,6])\n",
    "j=np.where(s==3)\n",
    "print(j)   #give index no\n",
    "print(  )\n",
    "print(np.where((s/2)==0))\n",
    "print(  )\n",
    "print(np.where(\"e\"))\n",
    "print(  )\n",
    "print(np.searchsorted(s,9999),\"index no!\")      #You set  give 9999 index no!\n",
    "print(\"find index no by side wise! ---->  \")\n",
    "print(np.searchsorted(s,5,side=\"left\"))\n",
    "print(\"---->\")\n",
    "print(np.searchsorted(s,[6,7,5],side=\"left\"))"
   ]
  },
  {
   "cell_type": "markdown",
   "id": "26bcbab2-39ab-46f4-b9cb-ffd801151e14",
   "metadata": {},
   "source": [
    "#Sort array (ascending array!)"
   ]
  },
  {
   "cell_type": "code",
   "execution_count": 6,
   "id": "cdcdb516-991f-466b-9b2d-01c4d1c69f8a",
   "metadata": {},
   "outputs": [
    {
     "name": "stdout",
     "output_type": "stream",
     "text": [
      "sorted array:- [0 1 3 3 4 5 6 7 7 8 9]\n",
      "sorted array:- [1 5 3 9 7 4 0 7 6 3 8]\n"
     ]
    }
   ],
   "source": [
    "z=np.array([1,5,3,9,7,4,0,7,6,3,8])\n",
    "print(\"sorted array:-\",np.sort(z))\n",
    "print(\"sorted array:-\",z )"
   ]
  },
  {
   "cell_type": "markdown",
   "id": "ce21d5af-3c9f-4c96-8dcc-b497dfc0e76b",
   "metadata": {},
   "source": [
    "#FOR alphabatics ascen order"
   ]
  },
  {
   "cell_type": "code",
   "execution_count": 15,
   "id": "cbc43eb8-a598-4a2f-a0da-612099960ec0",
   "metadata": {},
   "outputs": [
    {
     "name": "stdout",
     "output_type": "stream",
     "text": [
      "['a' 'e' 'e' 'f' 'h' 'k' 's']\n"
     ]
    }
   ],
   "source": [
    "al=np.array(['e','f','h','k','a','s','e'])     #can sorted 2d array\n",
    "print(np.sort(al))"
   ]
  },
  {
   "cell_type": "markdown",
   "id": "0f73c539-0a0e-44a4-97e2-9f8d0df27f14",
   "metadata": {},
   "source": [
    "#FILTER FUNCTION :- for getting a perticular element in array ex:-\n"
   ]
  },
  {
   "cell_type": "code",
   "execution_count": 17,
   "id": "307fd993-aaa7-4149-84b7-4599f1f6f90d",
   "metadata": {},
   "outputs": [
    {
     "name": "stdout",
     "output_type": "stream",
     "text": [
      "['b' 'm' '9']\n"
     ]
    }
   ],
   "source": [
    "er=np.array([1,\"b\",3,7,\"m\",9])\n",
    "tf=[False,True,False,False,True,True]    #NOTE:- True or False is correct not lower case(true and false)\n",
    "print(er[tf])"
   ]
  },
  {
   "cell_type": "code",
   "execution_count": 14,
   "id": "59867c87-3650-4aa1-8f47-9e306c704342",
   "metadata": {},
   "outputs": [
    {
     "ename": "NameError",
     "evalue": "name 'x' is not defined",
     "output_type": "error",
     "traceback": [
      "\u001b[1;31m---------------------------------------------------------------------------\u001b[0m",
      "\u001b[1;31mNameError\u001b[0m                                 Traceback (most recent call last)",
      "Cell \u001b[1;32mIn[14], line 5\u001b[0m\n\u001b[0;32m      3\u001b[0m \u001b[38;5;28;01mfor\u001b[39;00m i \u001b[38;5;129;01min\u001b[39;00m \u001b[38;5;28mrange\u001b[39m(\u001b[38;5;241m11\u001b[39m,\u001b[38;5;241m0\u001b[39m):\n\u001b[0;32m      4\u001b[0m  x\u001b[38;5;241m=\u001b[39m[]\n\u001b[1;32m----> 5\u001b[0m b\u001b[38;5;241m=\u001b[39m\u001b[43mx\u001b[49m\u001b[38;5;241m.\u001b[39mappend(i)\n\u001b[0;32m      6\u001b[0m \u001b[38;5;28mprint\u001b[39m(b)\n",
      "\u001b[1;31mNameError\u001b[0m: name 'x' is not defined"
     ]
    }
   ],
   "source": [
    "#Descending order:-\n",
    "len(z)\n",
    "for i in range(11,0):\n",
    " x=[]\n",
    "b=x.append(i)\n",
    "print(b)\n"
   ]
  },
  {
   "cell_type": "markdown",
   "id": "b5526931-0bf5-45ba-9ffd-223f4a3b10e9",
   "metadata": {},
   "source": [
    "#Suffel Elements randomly in array"
   ]
  },
  {
   "cell_type": "code",
   "execution_count": 34,
   "id": "d3009a9a-33b1-458f-9b91-a5d14cd355bb",
   "metadata": {},
   "outputs": [
    {
     "name": "stdout",
     "output_type": "stream",
     "text": [
      "suffel data:- [ 5  7 56  9  2  7  6  8  3 89  4  4  1]\n"
     ]
    }
   ],
   "source": [
    "su=np.array([1,2,3,4,56,7,8,4,5,6,7,89,9])\n",
    "#print(\"suffel data:-\",np.random.shuffle(su))   #not correct formate!\n",
    "#su2=np.random.shuffle(su)\n",
    "np.random.shuffle(su)     #Only correct that format olny!\n",
    "print(\"suffel data:-\",su)   #Random show element in array!\n",
    "\n"
   ]
  },
  {
   "cell_type": "code",
   "execution_count": 45,
   "id": "19859a4d-5cdc-47d5-bf77-e619f5e1a887",
   "metadata": {},
   "outputs": [
    {
     "name": "stdout",
     "output_type": "stream",
     "text": [
      "unique data:- [ 1  2  3  4  5  7  9 23 66]\n",
      "unique data:- (array([ 1,  2,  3,  4,  5,  7,  9, 23, 66]), array([ 0, 10,  2,  3,  5,  7,  9,  1,  6], dtype=int64), array([2, 1, 2, 2, 1, 1, 1, 1, 1], dtype=int64))\n"
     ]
    }
   ],
   "source": [
    "su3=np.array([1,23,3,4,3,5,66,7,4,9,2,1,])   #reapitive elements show only one time! show all data in array format!\n",
    "print(\"unique data:-\",np.unique(su3))\n",
    "un=np.unique(su3,return_index=True,return_counts=True)   #Case sensitive writting letters \n",
    "#print(\"unique data2:-\",un,\"Index no.:-\",return_index=True,return_Counts=True)  #incorrect method!\n",
    "print(\"unique data:-\",un)"
   ]
  },
  {
   "cell_type": "markdown",
   "id": "155ce827-77c8-41f5-98ef-dcdf14597cdc",
   "metadata": {},
   "source": [
    "#REsize funct (no. of rows,no. of element in each elements)\n"
   ]
  },
  {
   "cell_type": "code",
   "execution_count": 50,
   "id": "f377aac0-c833-4d2f-98df-d9f9ba6dc676",
   "metadata": {},
   "outputs": [
    {
     "name": "stdout",
     "output_type": "stream",
     "text": [
      "resize elements:- [[ 1 23  3  4]\n",
      " [ 3  5 66  7]\n",
      " [ 4  9  2  1]]\n",
      "2nd 2d array element:------>\n",
      "resize element2:- [[ 1 23  3  4  3  5]\n",
      " [66  7  4  9  2  1]]\n"
     ]
    }
   ],
   "source": [
    "len(su3)\n",
    "print('resize elements:-',np.resize(su3,(3,4)))\n",
    "print('2nd 2d array element:------>' )\n",
    "print(\"resize element2:-\",np.resize(su3,(2,6)))\n"
   ]
  },
  {
   "cell_type": "markdown",
   "id": "2e824610-fc6d-4a18-933b-c22cb326e201",
   "metadata": {},
   "source": [
    "#Inser date in numpy array"
   ]
  },
  {
   "cell_type": "code",
   "execution_count": 75,
   "id": "8c5521df-f60c-4b44-9bb6-56941ec78757",
   "metadata": {},
   "outputs": [
    {
     "name": "stdout",
     "output_type": "stream",
     "text": [
      "inserted data:- [ 1  2 99  3 66  5]\n",
      "\n",
      "insert data2:- [ 1  2  3 66 77  5]\n",
      "\n",
      "Data insert into many place(index):- [  1   2 999   3 999  66 999   5]\n",
      "['x' 'g' 'm' 'x' 'l' 'x']\n",
      "\n",
      "string insert:- ['g' 'm' 'n' 'l' 's']\n",
      "\n",
      "[[ 1  2  3]\n",
      " [ 4  5  6]\n",
      " [66 66 66]]\n",
      "[[1 2 0 3]\n",
      " [4 5 0 6]]\n",
      "\n",
      "[[  1   2   3]\n",
      " [  4   5   6]\n",
      " [786 786 786]]\n"
     ]
    }
   ],
   "source": [
    "i=np.array([1,2,3,66,5])      #(varible,index,value insert)\n",
    "f=np.insert(i,2,99)\n",
    "print('inserted data:-',f)\n",
    "print( )\n",
    "print('insert data2:-',np.insert(i,4,77))   #Data only insert as integers not float no  naerst lower no.\n",
    "print(  )\n",
    "print('Data insert into many place(index):-',np.insert(i,(2,3,4),999)) \n",
    "l=np.array(['g','m','l'])\n",
    "print(np.insert(l,(0,2,3),\"x\"))   #Can insert letters \n",
    "print()\n",
    "print(\"string insert:-\",np.insert(l,(2,3),(\"name\",'sahu')))   #only insert first letter not insert complete name! at diff index and diff name!\n",
    "print(  )\n",
    "#i dont understand why am i not understanding data array strinf letter is not insert!  \n",
    "n=np.array([[1,2,3],[4,5,6]])\n",
    "print(np.insert(n,2,(66,66,66),axis=0))    \n",
    "print(np.insert(n,2,0,axis=1))\n",
    "print()\n",
    "print(np.insert(n,2,786,axis=0))   #Along row inster elements!"
   ]
  },
  {
   "cell_type": "markdown",
   "id": "4cff29d1-99ea-4e2c-b3b2-d99aecf049ce",
   "metadata": {},
   "source": [
    "#delete an element  in array "
   ]
  },
  {
   "cell_type": "code",
   "execution_count": 78,
   "id": "c76b4077-7123-4521-b26f-ab0d52d0b8bb",
   "metadata": {},
   "outputs": [
    {
     "name": "stdout",
     "output_type": "stream",
     "text": [
      "orignal data :- [ 1  2 34  4  5]\n",
      "\n",
      "delete data array:- [1 2 4 5]\n"
     ]
    }
   ],
   "source": [
    "de=np.array([1,2,34,4,5])\n",
    "print('orignal data :-', de)\n",
    "print(  )\n",
    "print('delete data array:-',np.delete(de,2))   #Pass index no! to remove any value\n"
   ]
  },
  {
   "cell_type": "code",
   "execution_count": 79,
   "id": "679ce739-ee39-424c-b6de-5f791542200b",
   "metadata": {},
   "outputs": [
    {
     "name": "stdout",
     "output_type": "stream",
     "text": [
      "multipplication of matrix:- [[3 6]\n",
      " [3 6]]\n"
     ]
    }
   ],
   "source": [
    "z=np.matrix([[1,2],[1,2]])\n",
    "y=np.matrix([[1,2],[1,2]])\n",
    "print(\"multipplication of matrix:-\",z.dot(y))"
   ]
  },
  {
   "cell_type": "markdown",
   "id": "38240401-d972-48f0-817e-dffc13a7025a",
   "metadata": {},
   "source": [
    "#letse heckinhg code "
   ]
  },
  {
   "cell_type": "code",
   "execution_count": 28,
   "id": "e4c5c958-9825-4054-8a54-0f4a74b44285",
   "metadata": {},
   "outputs": [
    {
     "ename": "AttributeError",
     "evalue": "module 'numpy' has no attribute 'seed'",
     "output_type": "error",
     "traceback": [
      "\u001b[1;31m---------------------------------------------------------------------------\u001b[0m",
      "\u001b[1;31mAttributeError\u001b[0m                            Traceback (most recent call last)",
      "Cell \u001b[1;32mIn[28], line 1\u001b[0m\n\u001b[1;32m----> 1\u001b[0m g\u001b[38;5;241m=\u001b[39m\u001b[43mnp\u001b[49m\u001b[38;5;241;43m.\u001b[39;49m\u001b[43mseed\u001b[49m(\u001b[38;5;241m5\u001b[39m)\n\u001b[0;32m      2\u001b[0m np\u001b[38;5;241m.\u001b[39mrandom\u001b[38;5;241m.\u001b[39mrandint(\u001b[38;5;241m1\u001b[39m,\u001b[38;5;241m6\u001b[39m,\u001b[38;5;241m4\u001b[39m)\n\u001b[0;32m      3\u001b[0m \u001b[38;5;28mprint\u001b[39m(g)\n",
      "File \u001b[1;32m~\\AppData\\Local\\Programs\\Python\\Python312\\Lib\\site-packages\\numpy\\__init__.py:347\u001b[0m, in \u001b[0;36m__getattr__\u001b[1;34m(attr)\u001b[0m\n\u001b[0;32m    344\u001b[0m     \u001b[38;5;124m\"\u001b[39m\u001b[38;5;124mRemoved in NumPy 1.25.0\u001b[39m\u001b[38;5;124m\"\u001b[39m\n\u001b[0;32m    345\u001b[0m     \u001b[38;5;28;01mraise\u001b[39;00m \u001b[38;5;167;01mRuntimeError\u001b[39;00m(\u001b[38;5;124m\"\u001b[39m\u001b[38;5;124mTester was removed in NumPy 1.25.\u001b[39m\u001b[38;5;124m\"\u001b[39m)\n\u001b[1;32m--> 347\u001b[0m \u001b[38;5;28;01mraise\u001b[39;00m \u001b[38;5;167;01mAttributeError\u001b[39;00m(\u001b[38;5;124m\"\u001b[39m\u001b[38;5;124mmodule \u001b[39m\u001b[38;5;132;01m{!r}\u001b[39;00m\u001b[38;5;124m has no attribute \u001b[39m\u001b[38;5;124m\"\u001b[39m\n\u001b[0;32m    348\u001b[0m                      \u001b[38;5;124m\"\u001b[39m\u001b[38;5;132;01m{!r}\u001b[39;00m\u001b[38;5;124m\"\u001b[39m\u001b[38;5;241m.\u001b[39mformat(\u001b[38;5;18m__name__\u001b[39m, attr))\n",
      "\u001b[1;31mAttributeError\u001b[0m: module 'numpy' has no attribute 'seed'"
     ]
    }
   ],
   "source": [
    "g=np.seed(5)\n",
    "np.random.randint(1,6,4)\n",
    "print(g)"
   ]
  },
  {
   "cell_type": "code",
   "execution_count": 27,
   "id": "73326987-177e-4b22-bac2-530184329890",
   "metadata": {},
   "outputs": [
    {
     "name": "stdout",
     "output_type": "stream",
     "text": [
      "orignal array:- [[[1 2 7]\n",
      "  [2 3 9]]]\n",
      "\n",
      "1nd scilicing:- 1\n",
      "1nd scilicing:- 2\n",
      "1nd scilicing:- 7\n",
      "1nd scilicing:- 2\n",
      "1nd scilicing:- 3\n",
      "1nd scilicing:- 9\n",
      "\n",
      "2nd scilicing:- 1\n",
      "2nd scilicing:- 2\n",
      "2nd scilicing:- 7\n",
      "2nd scilicing:- 2\n",
      "2nd scilicing:- 3\n",
      "2nd scilicing:- 9\n"
     ]
    }
   ],
   "source": [
    "sd=np.array([[[1,2,7],[2,3,9]]])\n",
    "print(\"orignal array:-\",sd)\n",
    "\n",
    "print(   )\n",
    "for k in sd.flat:\n",
    " print(\"1nd scilicing:-\",k)\n",
    "print(   )\n",
    "for i in np.nditer(sd):\n",
    "    print(\"2nd scilicing:-\",i)\n",
    "    "
   ]
  },
  {
   "cell_type": "code",
   "execution_count": null,
   "id": "a69bf74d-37fd-4a44-8987-ae98b3b468d8",
   "metadata": {},
   "outputs": [],
   "source": []
  }
 ],
 "metadata": {
  "kernelspec": {
   "display_name": "Python 3 (ipykernel)",
   "language": "python",
   "name": "python3"
  },
  "language_info": {
   "codemirror_mode": {
    "name": "ipython",
    "version": 3
   },
   "file_extension": ".py",
   "mimetype": "text/x-python",
   "name": "python",
   "nbconvert_exporter": "python",
   "pygments_lexer": "ipython3",
   "version": "3.12.0"
  }
 },
 "nbformat": 4,
 "nbformat_minor": 5
}
