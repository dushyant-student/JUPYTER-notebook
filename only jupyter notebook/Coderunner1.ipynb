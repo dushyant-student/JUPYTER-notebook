{
 "cells": [
  {
   "cell_type": "code",
   "execution_count": 2,
   "id": "6bc2e170-e798-4ef8-a91d-73b484fbcc5c",
   "metadata": {},
   "outputs": [
    {
     "name": "stdout",
     "output_type": "stream",
     "text": [
      "multiplication is a1 and a2:- [[1 4 9]\n",
      " [1 4 9]]\n"
     ]
    },
    {
     "data": {
      "text/plain": [
       "(array([[1, 4, 9],\n",
       "        [1, 4, 9]]),\n",
       " 'multiplication ')"
      ]
     },
     "execution_count": 2,
     "metadata": {},
     "output_type": "execute_result"
    }
   ],
   "source": [
    "import numpy as np \n",
    "a1=np.array([[1,2,3],[1,2,3]])\n",
    "a2=np.array([1,2,3])\n",
    "mul=a1*a2\n",
    "       #or \n",
    "print(\"multiplication is a1 and a2:-\",mul)\n",
    "mul,\"multiplication \""
   ]
  },
  {
   "cell_type": "code",
   "execution_count": 20,
   "id": "2ac35f11-7003-4c43-9baa-a828eb950ea0",
   "metadata": {},
   "outputs": [
    {
     "name": "stdout",
     "output_type": "stream",
     "text": [
      "mult [ 0 18 24]\n"
     ]
    },
    {
     "data": {
      "text/plain": [
       "('multiply:-', array([ 0, 18, 24]))"
      ]
     },
     "execution_count": 20,
     "metadata": {},
     "output_type": "execute_result"
    }
   ],
   "source": [
    "v1=np.array([0,9,8])\n",
    "v2=np.array([1,2,3])\n",
    "print(\"mult\",np.multiply(v1,v2))\n",
    "\"multiply:-\",np.multiply(v1,v2)"
   ]
  },
  {
   "cell_type": "markdown",
   "id": "9c05f794-a9f9-459c-ac63-45a619e72ecd",
   "metadata": {},
   "source": [
    "#Cross product of 2 vectors:-"
   ]
  },
  {
   "cell_type": "code",
   "execution_count": 22,
   "id": "4bd431f4-477f-40d7-b5ac-aaf20d6d77e2",
   "metadata": {},
   "outputs": [
    {
     "name": "stdout",
     "output_type": "stream",
     "text": [
      "\n",
      "[0 0 0]\n"
     ]
    },
    {
     "data": {
      "text/plain": [
       "array([0, 0, 0])"
      ]
     },
     "execution_count": 22,
     "metadata": {},
     "output_type": "execute_result"
    }
   ],
   "source": [
    "v1=np.array([1,2,3])\n",
    "v2=np.array([1,2,3])\n",
    "print(   )                                #Using fun of cross !\n",
    "print(np.cross(v1,v2))\n",
    "np.cross(v1,v2)"
   ]
  },
  {
   "cell_type": "markdown",
   "id": "0f9705e1-fdbd-4281-bb9f-45979892ee2a",
   "metadata": {},
   "source": [
    "determinant of 2 array|"
   ]
  },
  {
   "cell_type": "code",
   "execution_count": 5,
   "id": "2af6020e-d706-4b84-a50e-eb055ecfd101",
   "metadata": {},
   "outputs": [
    {
     "name": "stdout",
     "output_type": "stream",
     "text": [
      "Determinant of this given a1 sq matrix is = -1.0\n"
     ]
    }
   ],
   "source": [
    "a1=np.array([[1,4],[4,6]])\n",
    "a1=np.array([[1,3],[2,5]])    #Syntex to find determinant(np.linalg.det().   )\n",
    "print(\"Determinant of this given a1 sq matrix is =\",np.linalg.det(a1))    #Deter takes only one arguments not two!\n"
   ]
  },
  {
   "cell_type": "markdown",
   "id": "77d904cf-b106-4446-a44c-3e868a80ad9d",
   "metadata": {},
   "source": [
    "Evaluate ensteins summation convention of tow multidiemintional array "
   ]
  },
  {
   "cell_type": "code",
   "execution_count": 10,
   "id": "e5a4b7c8-1d98-4b2d-9114-0fafc847a3b3",
   "metadata": {},
   "outputs": [
    {
     "ename": "ValueError",
     "evalue": "must provide at least an operand and a subscripts list to einsum",
     "output_type": "error",
     "traceback": [
      "\u001b[1;31m---------------------------------------------------------------------------\u001b[0m",
      "\u001b[1;31mValueError\u001b[0m                                Traceback (most recent call last)",
      "Cell \u001b[1;32mIn[10], line 3\u001b[0m\n\u001b[0;32m      1\u001b[0m a1\u001b[38;5;241m=\u001b[39mnp\u001b[38;5;241m.\u001b[39marray([[\u001b[38;5;241m1\u001b[39m,\u001b[38;5;241m4\u001b[39m],[\u001b[38;5;241m2\u001b[39m,\u001b[38;5;241m3\u001b[39m]])\n\u001b[0;32m      2\u001b[0m a2\u001b[38;5;241m=\u001b[39mnp\u001b[38;5;241m.\u001b[39marray([[\u001b[38;5;241m6\u001b[39m,\u001b[38;5;241m3\u001b[39m],[\u001b[38;5;241m3\u001b[39m,\u001b[38;5;241m5\u001b[39m]])\n\u001b[1;32m----> 3\u001b[0m p\u001b[38;5;241m=\u001b[39m\u001b[43mnp\u001b[49m\u001b[38;5;241;43m.\u001b[39;49m\u001b[43meinsum\u001b[49m\u001b[43m(\u001b[49m\u001b[43m(\u001b[49m\u001b[43ma1\u001b[49m\u001b[43m,\u001b[49m\u001b[43ma2\u001b[49m\u001b[43m)\u001b[49m\u001b[43m)\u001b[49m\n\u001b[0;32m      4\u001b[0m \u001b[38;5;28mprint\u001b[39m(\u001b[38;5;124m\"\u001b[39m\u001b[38;5;124mensteins summation con :-\u001b[39m\u001b[38;5;124m\"\u001b[39m,p)     \u001b[38;5;66;03m#np.einsum(a1,a2)\u001b[39;00m\n",
      "File \u001b[1;32m~\\AppData\\Local\\Programs\\Python\\Python312\\Lib\\site-packages\\numpy\\core\\einsumfunc.py:1371\u001b[0m, in \u001b[0;36meinsum\u001b[1;34m(out, optimize, *operands, **kwargs)\u001b[0m\n\u001b[0;32m   1369\u001b[0m     \u001b[38;5;28;01mif\u001b[39;00m specified_out:\n\u001b[0;32m   1370\u001b[0m         kwargs[\u001b[38;5;124m'\u001b[39m\u001b[38;5;124mout\u001b[39m\u001b[38;5;124m'\u001b[39m] \u001b[38;5;241m=\u001b[39m out\n\u001b[1;32m-> 1371\u001b[0m     \u001b[38;5;28;01mreturn\u001b[39;00m \u001b[43mc_einsum\u001b[49m\u001b[43m(\u001b[49m\u001b[38;5;241;43m*\u001b[39;49m\u001b[43moperands\u001b[49m\u001b[43m,\u001b[49m\u001b[43m \u001b[49m\u001b[38;5;241;43m*\u001b[39;49m\u001b[38;5;241;43m*\u001b[39;49m\u001b[43mkwargs\u001b[49m\u001b[43m)\u001b[49m\n\u001b[0;32m   1373\u001b[0m \u001b[38;5;66;03m# Check the kwargs to avoid a more cryptic error later, without having to\u001b[39;00m\n\u001b[0;32m   1374\u001b[0m \u001b[38;5;66;03m# repeat default values here\u001b[39;00m\n\u001b[0;32m   1375\u001b[0m valid_einsum_kwargs \u001b[38;5;241m=\u001b[39m [\u001b[38;5;124m'\u001b[39m\u001b[38;5;124mdtype\u001b[39m\u001b[38;5;124m'\u001b[39m, \u001b[38;5;124m'\u001b[39m\u001b[38;5;124morder\u001b[39m\u001b[38;5;124m'\u001b[39m, \u001b[38;5;124m'\u001b[39m\u001b[38;5;124mcasting\u001b[39m\u001b[38;5;124m'\u001b[39m]\n",
      "\u001b[1;31mValueError\u001b[0m: must provide at least an operand and a subscripts list to einsum"
     ]
    }
   ],
   "source": [
    "a1=np.array([[1,4],[2,3]])\n",
    "a2=np.array([[6,3],[3,5]])\n",
    "p=np.einsum(a1,a2)\n",
    "print(\"ensteins summation con :-\",p)     #np.einsum(a1,a2)"
   ]
  },
  {
   "cell_type": "code",
   "execution_count": 14,
   "id": "11a5a00d-30c9-4803-8d5b-2284ffcc2249",
   "metadata": {},
   "outputs": [
    {
     "data": {
      "text/plain": [
       "26"
      ]
     },
     "execution_count": 14,
     "metadata": {},
     "output_type": "execute_result"
    }
   ],
   "source": [
    "a1=np.array([0,4,2,3,3])\n",
    "a2=np.array([0,3,4,2,0])    #Inner product == #this sum of accto  axis =0 add all values \n",
    "im=np.inner(a1,a2)\n",
    "im"
   ]
  },
  {
   "cell_type": "code",
   "execution_count": 45,
   "id": "454aca78-6914-42bc-ac20-6d3dd5ff1789",
   "metadata": {},
   "outputs": [
    {
     "name": "stdout",
     "output_type": "stream",
     "text": [
      "Original 1-d arrays:\n",
      "[1 2 5]\n",
      "[2 1 0]\n",
      "Inner product of the said vectors:\n",
      "4\n"
     ]
    }
   ],
   "source": [
    "import numpy as np\n",
    "\n",
    "# Create two 1-D arrays 'a' and 'b'\n",
    "a = np.array([1, 2, 5])\n",
    "b = np.array([2, 1, 0])                  #I dont under stand this code \n",
    "\n",
    "# Display the original 1-D arrays 'a' and 'b'\n",
    "print(\"Original 1-d arrays:\")\n",
    "print(a)\n",
    "print(b)\n",
    "\n",
    "# Calculate the inner product of arrays 'a' and 'b' using np.inner()\n",
    "result = np.inner(a, b)\n",
    "\n",
    "# Display the inner product of the said vectors\n",
    "print(\"Inner product of the said vectors:\")\n",
    "print(result)"
   ]
  },
  {
   "cell_type": "code",
   "execution_count": 21,
   "id": "1949d046-efcc-4517-a3a3-d9e6724c9909",
   "metadata": {},
   "outputs": [
    {
     "name": "stdout",
     "output_type": "stream",
     "text": [
      "[[ 4  5  8 10]\n",
      " [ 2  1  4  2]\n",
      " [ 8 10 12 15]\n",
      " [ 4  2  6  3]]\n"
     ]
    }
   ],
   "source": [
    "p1=np.array([[1,2],[2,3]])\n",
    "p2=np.array([[4,5],[2,1]])    #Kronker product \n",
    "print(np.kron(p1,p2))"
   ]
  },
  {
   "cell_type": "code",
   "execution_count": 8,
   "id": "6306f771-d4ed-4ccc-b4e8-c856a3e84a29",
   "metadata": {},
   "outputs": [
    {
     "name": "stdout",
     "output_type": "stream",
     "text": [
      "17.944271909999173\n"
     ]
    }
   ],
   "source": [
    "from numpy import linalg as LA\n",
    "p1=np.array([[1,2],[2,3]])            #Vectors and matrix norms form \n",
    "print(LA.cond(p1))"
   ]
  },
  {
   "cell_type": "code",
   "execution_count": 7,
   "id": "b0d94133-275a-411d-9c4c-c5542b4fed9c",
   "metadata": {},
   "outputs": [
    {
     "name": "stdout",
     "output_type": "stream",
     "text": [
      "5.477225575051661\n"
     ]
    }
   ],
   "source": [
    "p3=np.array([[1,2],[3,4]])\n",
    "print(np.linalg.norm(p3))"
   ]
  },
  {
   "cell_type": "code",
   "execution_count": 11,
   "id": "05a52c81-8a07-47c8-a8a8-07576825bf54",
   "metadata": {},
   "outputs": [
    {
     "name": "stdout",
     "output_type": "stream",
     "text": [
      "matrix in norms:- 5.477225575051661\n"
     ]
    }
   ],
   "source": [
    "p4=np.matrix('1,2;3,4')\n",
    "print(\"matrix in norms:-\",np.linalg.norm(p4))\n"
   ]
  },
  {
   "cell_type": "code",
   "execution_count": 12,
   "id": "60cf2385-ca1d-4ccf-95a2-aa2b6af3eb23",
   "metadata": {},
   "outputs": [
    {
     "ename": "AttributeError",
     "evalue": "module 'numpy' has no attribute 'det'",
     "output_type": "error",
     "traceback": [
      "\u001b[1;31m---------------------------------------------------------------------------\u001b[0m",
      "\u001b[1;31mAttributeError\u001b[0m                            Traceback (most recent call last)",
      "Cell \u001b[1;32mIn[12], line 1\u001b[0m\n\u001b[1;32m----> 1\u001b[0m \u001b[38;5;28mprint\u001b[39m(\u001b[43mnp\u001b[49m\u001b[38;5;241;43m.\u001b[39;49m\u001b[43mdet\u001b[49m(p4))\n",
      "File \u001b[1;32m~\\AppData\\Local\\Programs\\Python\\Python312\\Lib\\site-packages\\numpy\\__init__.py:347\u001b[0m, in \u001b[0;36m__getattr__\u001b[1;34m(attr)\u001b[0m\n\u001b[0;32m    344\u001b[0m     \u001b[38;5;124m\"\u001b[39m\u001b[38;5;124mRemoved in NumPy 1.25.0\u001b[39m\u001b[38;5;124m\"\u001b[39m\n\u001b[0;32m    345\u001b[0m     \u001b[38;5;28;01mraise\u001b[39;00m \u001b[38;5;167;01mRuntimeError\u001b[39;00m(\u001b[38;5;124m\"\u001b[39m\u001b[38;5;124mTester was removed in NumPy 1.25.\u001b[39m\u001b[38;5;124m\"\u001b[39m)\n\u001b[1;32m--> 347\u001b[0m \u001b[38;5;28;01mraise\u001b[39;00m \u001b[38;5;167;01mAttributeError\u001b[39;00m(\u001b[38;5;124m\"\u001b[39m\u001b[38;5;124mmodule \u001b[39m\u001b[38;5;132;01m{!r}\u001b[39;00m\u001b[38;5;124m has no attribute \u001b[39m\u001b[38;5;124m\"\u001b[39m\n\u001b[0;32m    348\u001b[0m                      \u001b[38;5;124m\"\u001b[39m\u001b[38;5;132;01m{!r}\u001b[39;00m\u001b[38;5;124m\"\u001b[39m\u001b[38;5;241m.\u001b[39mformat(\u001b[38;5;18m__name__\u001b[39m, attr))\n",
      "\u001b[1;31mAttributeError\u001b[0m: module 'numpy' has no attribute 'det'"
     ]
    }
   ],
   "source": [
    "print(np.det(p4))"
   ]
  },
  {
   "cell_type": "code",
   "execution_count": 14,
   "id": "8fef576e-2395-40a6-86bd-b1d78ea60f46",
   "metadata": {},
   "outputs": [
    {
     "name": "stdout",
     "output_type": "stream",
     "text": [
      "Determinant :- -2.0000000000000004\n"
     ]
    }
   ],
   "source": [
    "print(\"Determinant :-\",np.linalg.det(p4))"
   ]
  },
  {
   "cell_type": "code",
   "execution_count": null,
   "id": "aeb6668b-b0ee-4e77-b773-60a46020af5b",
   "metadata": {},
   "outputs": [],
   "source": []
  }
 ],
 "metadata": {
  "kernelspec": {
   "display_name": "Python 3 (ipykernel)",
   "language": "python",
   "name": "python3"
  },
  "language_info": {
   "codemirror_mode": {
    "name": "ipython",
    "version": 3
   },
   "file_extension": ".py",
   "mimetype": "text/x-python",
   "name": "python",
   "nbconvert_exporter": "python",
   "pygments_lexer": "ipython3",
   "version": "3.12.0"
  }
 },
 "nbformat": 4,
 "nbformat_minor": 5
}
