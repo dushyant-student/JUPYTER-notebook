{
 "cells": [
  {
   "cell_type": "code",
   "execution_count": 13,
   "id": "c9a67a85-7177-491a-b0ab-354a8e47a7a0",
   "metadata": {},
   "outputs": [
    {
     "name": "stdout",
     "output_type": "stream",
     "text": [
      "[12, 18, 37, 99, 28, 49, 69, 37, 83]\n",
      "[12, 18, 37, 99, 28, 49, 69, 37, 83]\n"
     ]
    },
    {
     "ename": "NameError",
     "evalue": "name 'dtype' is not defined",
     "output_type": "error",
     "traceback": [
      "\u001b[1;31m---------------------------------------------------------------------------\u001b[0m",
      "\u001b[1;31mNameError\u001b[0m                                 Traceback (most recent call last)",
      "Cell \u001b[1;32mIn[13], line 11\u001b[0m\n\u001b[0;32m      9\u001b[0m np\u001b[38;5;241m.\u001b[39marr\u001b[38;5;241m=\u001b[39m[\u001b[38;5;241m12\u001b[39m,\u001b[38;5;241m18\u001b[39m,\u001b[38;5;241m37\u001b[39m,\u001b[38;5;241m25\u001b[39m,\u001b[38;5;241m48\u001b[39m,\u001b[38;5;241m49\u001b[39m,\u001b[38;5;241m69\u001b[39m,\u001b[38;5;241m37\u001b[39m,\u001b[38;5;241m83\u001b[39m]\n\u001b[0;32m     10\u001b[0m inser(arr,\u001b[38;5;241m3\u001b[39m,\u001b[38;5;241m99\u001b[39m)\n\u001b[1;32m---> 11\u001b[0m \u001b[38;5;28mprint\u001b[39m(arr,\u001b[43mdtype\u001b[49m(arr))    \u001b[38;5;66;03m#this not work due to list range index cant expend after posted list!\u001b[39;00m\n",
      "\u001b[1;31mNameError\u001b[0m: name 'dtype' is not defined"
     ]
    }
   ],
   "source": [
    "import numpy as np\n",
    "def inser(arr,index,insertele):    #WHY is not working?\n",
    "    for i in range(len(arr)-1,-index+1,1):\n",
    "        arr[i]=arr[i-1]\n",
    "    print(arr) \n",
    "    arr[index]=insertele\n",
    "    print(arr) \n",
    "np.arr=[12,18,37,25,48,49,69,37,83]\n",
    "inser(arr,3,99)\n",
    "print(arr)    #this not work due to list range index cant expend after posted list!\n",
    "\n"
   ]
  },
  {
   "cell_type": "code",
   "execution_count": null,
   "id": "1922b7f1-be65-4441-b0d4-edaf118dd519",
   "metadata": {},
   "outputs": [],
   "source": []
  },
  {
   "cell_type": "code",
   "execution_count": null,
   "id": "457201b9-0382-41ef-8cfd-e04626d80488",
   "metadata": {},
   "outputs": [],
   "source": []
  }
 ],
 "metadata": {
  "kernelspec": {
   "display_name": "Python 3 (ipykernel)",
   "language": "python",
   "name": "python3"
  },
  "language_info": {
   "codemirror_mode": {
    "name": "ipython",
    "version": 3
   },
   "file_extension": ".py",
   "mimetype": "text/x-python",
   "name": "python",
   "nbconvert_exporter": "python",
   "pygments_lexer": "ipython3",
   "version": "3.12.0"
  }
 },
 "nbformat": 4,
 "nbformat_minor": 5
}
