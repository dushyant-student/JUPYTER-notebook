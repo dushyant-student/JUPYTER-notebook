{
 "cells": [
  {
   "cell_type": "markdown",
   "id": "6c7a219b-952d-4f13-a45f-08be605bfb23",
   "metadata": {},
   "source": [
    "Array"
   ]
  },
  {
   "cell_type": "code",
   "execution_count": null,
   "id": "3e536aa6-4a13-42fd-ba36-81864667510b",
   "metadata": {},
   "outputs": [
    {
     "name": "stdout",
     "output_type": "stream",
     "text": [
      "[1 2 3 4 5]\n",
      "[1 2 3 4 5]\n"
     ]
    }
   ],
   "source": [
    "import numpy as np \n",
    "arr=np.array([1,2,3,4,5])\n",
    "print(arr)                     #Both mwthod will same \n",
    "print(np.array([1,2,3,4,5]))"
   ]
  },
  {
   "cell_type": "code",
   "execution_count": null,
   "id": "d3800f31-48cf-45de-8bef-ef6510437b14",
   "metadata": {},
   "outputs": [
    {
     "name": "stdout",
     "output_type": "stream",
     "text": [
      "[[1 2 3 4]] 2\n"
     ]
    }
   ],
   "source": [
    "g=np.array([[1,2,3,4]])   #2D array\n",
    "print(g,g.ndim)       #ndim tell us dimention of array by sq brackets \n"
   ]
  },
  {
   "cell_type": "markdown",
   "id": "782c4e91-e0bb-41f0-b771-52c9f00d12d5",
   "metadata": {},
   "source": [
    "Airect method for creating array"
   ]
  },
  {
   "cell_type": "code",
   "execution_count": null,
   "id": "3c18812a-2c3e-4296-9b8e-5056350bfa72",
   "metadata": {},
   "outputs": [
    {
     "name": "stdout",
     "output_type": "stream",
     "text": [
      "[[[ 1 32  3  4]]] 3\n"
     ]
    }
   ],
   "source": [
    "arr2=np.array([[[1,32,3,4,]]])    #3D array\n",
    "print(arr2,arr2.ndim)"
   ]
  },
  {
   "cell_type": "code",
   "execution_count": null,
   "id": "82638ee4-3e93-475c-84b7-ba6897201b93",
   "metadata": {},
   "outputs": [
    {
     "name": "stdout",
     "output_type": "stream",
     "text": [
      "[[[1 2 3]\n",
      "  [4 5 6]]] 3\n"
     ]
    }
   ],
   "source": [
    "arr2 =np.array([[[1,2,3],[4,5,6]]])\n",
    "print(arr2,arr2.ndim)"
   ]
  },
  {
   "cell_type": "markdown",
   "id": "67297485-2be2-4cbd-bcfb-e14b5be37e3d",
   "metadata": {},
   "source": [
    "Differnt ways to creat numpy "
   ]
  },
  {
   "cell_type": "code",
   "execution_count": null,
   "id": "423ada8b-8baf-47ed-9161-ddc29d977de0",
   "metadata": {},
   "outputs": [
    {
     "name": "stdout",
     "output_type": "stream",
     "text": [
      "[0. 0. 0.]\n"
     ]
    }
   ],
   "source": [
    "#zeros elements in numpy\n",
    "arr3=np.zeros(3)\n",
    "print(arr3)"
   ]
  },
  {
   "cell_type": "code",
   "execution_count": null,
   "id": "231a1243-59fa-48c2-bf43-c8c78a0b4738",
   "metadata": {},
   "outputs": [
    {
     "name": "stdout",
     "output_type": "stream",
     "text": [
      "[[0. 0. 0. 0.]\n",
      " [0. 0. 0. 0.]\n",
      " [0. 0. 0. 0.]]\n"
     ]
    }
   ],
   "source": [
    "#zeros elements in numpy\n",
    "arr3=np.zeros((3,4))  #learn terika of bracket!\n",
    "print(arr3)"
   ]
  },
  {
   "cell_type": "code",
   "execution_count": null,
   "id": "9d26c038-a7e9-4e14-b3ce-9f7513f701ad",
   "metadata": {},
   "outputs": [
    {
     "name": "stdout",
     "output_type": "stream",
     "text": [
      "[1. 1. 1.] 1\n"
     ]
    }
   ],
   "source": [
    "arr4=np.ones(3)\n",
    "print(arr4 , arr4.ndim)"
   ]
  },
  {
   "cell_type": "code",
   "execution_count": null,
   "id": "428648a0-4b2a-44a4-93bd-b337aa68e6c8",
   "metadata": {},
   "outputs": [
    {
     "name": "stdout",
     "output_type": "stream",
     "text": [
      "[[1. 1. 1. 1.]\n",
      " [1. 1. 1. 1.]\n",
      " [1. 1. 1. 1.]]\n"
     ]
    }
   ],
   "source": [
    "print(np.ones((3,4)))    #make all types of array "
   ]
  },
  {
   "cell_type": "code",
   "execution_count": null,
   "id": "5907a40a-4308-4d41-922b-c8d45c6b84f3",
   "metadata": {},
   "outputs": [
    {
     "name": "stdout",
     "output_type": "stream",
     "text": [
      "1.0\n"
     ]
    }
   ],
   "source": [
    "arr5=[]\n",
    "print(np.empty(arr5))"
   ]
  },
  {
   "cell_type": "code",
   "execution_count": null,
   "id": "bad2bb7a-3250-4a13-a4b0-2213d71f48a8",
   "metadata": {},
   "outputs": [
    {
     "name": "stdout",
     "output_type": "stream",
     "text": [
      "[1. 1. 1.]\n"
     ]
    }
   ],
   "source": [
    "print(np.empty(3))"
   ]
  },
  {
   "cell_type": "code",
   "execution_count": null,
   "id": "233334b5-2c54-49ed-baeb-04913fbc369e",
   "metadata": {},
   "outputs": [
    {
     "name": "stdout",
     "output_type": "stream",
     "text": [
      "[[6.23042070e-307 4.67296746e-307 1.69121096e-306]\n",
      " [4.22792893e-307 3.33772113e-307 1.05699581e-307]]\n"
     ]
    }
   ],
   "source": [
    "print(np.empty((2,3)))"
   ]
  },
  {
   "cell_type": "code",
   "execution_count": null,
   "id": "4d262b51-9b6a-4405-85cf-cd7ffdb251f0",
   "metadata": {},
   "outputs": [
    {
     "name": "stdout",
     "output_type": "stream",
     "text": [
      "[0 1 2 3 4]\n"
     ]
    }
   ],
   "source": [
    "ar=np.arange(5)\n",
    "print(ar)"
   ]
  },
  {
   "cell_type": "code",
   "execution_count": null,
   "id": "8baaddd5-cc1d-4877-82f7-bd9b26240f90",
   "metadata": {},
   "outputs": [
    {
     "name": "stdout",
     "output_type": "stream",
     "text": [
      "[2]\n"
     ]
    }
   ],
   "source": [
    "print(np.arange(2,3))   form    #2(include) to 3 "
   ]
  },
  {
   "cell_type": "code",
   "execution_count": null,
   "id": "3636e344-b623-4220-9b07-140980300d74",
   "metadata": {},
   "outputs": [
    {
     "name": "stdout",
     "output_type": "stream",
     "text": [
      "[1 2 3 4 5 6]\n"
     ]
    }
   ],
   "source": [
    "print(np.arange(1,7))   #fron 2 include to 7not includ "
   ]
  },
  {
   "cell_type": "code",
   "execution_count": null,
   "id": "84d14ebf-296d-411c-9618-98fc642a1adf",
   "metadata": {},
   "outputs": [
    {
     "name": "stdout",
     "output_type": "stream",
     "text": [
      "[[1. 0. 0.]\n",
      " [0. 1. 0.]\n",
      " [0. 0. 1.]]\n"
     ]
    }
   ],
   "source": [
    "print(np.eye(3))    #for dioagonal element"
   ]
  },
  {
   "cell_type": "code",
   "execution_count": null,
   "id": "a648eccb-958f-4450-bf54-4fba488fccfc",
   "metadata": {},
   "outputs": [
    {
     "name": "stdout",
     "output_type": "stream",
     "text": [
      "[[1. 0. 0. 0.]\n",
      " [0. 1. 0. 0.]]\n"
     ]
    }
   ],
   "source": [
    "print(np.eye(2,4\n",
    "            ))      #make any types of array"
   ]
  },
  {
   "cell_type": "code",
   "execution_count": null,
   "id": "367a4efd-d8c1-48c7-bc7a-e1ecb0b30727",
   "metadata": {},
   "outputs": [
    {
     "name": "stdout",
     "output_type": "stream",
     "text": [
      "[1.         1.06122449 1.12244898 1.18367347 1.24489796 1.30612245\n",
      " 1.36734694 1.42857143 1.48979592 1.55102041 1.6122449  1.67346939\n",
      " 1.73469388 1.79591837 1.85714286 1.91836735 1.97959184 2.04081633\n",
      " 2.10204082 2.16326531 2.2244898  2.28571429 2.34693878 2.40816327\n",
      " 2.46938776 2.53061224 2.59183673 2.65306122 2.71428571 2.7755102\n",
      " 2.83673469 2.89795918 2.95918367 3.02040816 3.08163265 3.14285714\n",
      " 3.20408163 3.26530612 3.32653061 3.3877551  3.44897959 3.51020408\n",
      " 3.57142857 3.63265306 3.69387755 3.75510204 3.81632653 3.87755102\n",
      " 3.93877551 4.        ]\n"
     ]
    }
   ],
   "source": [
    "print(np.linspace(1,4))    #creat array according to your choice how many you need element in same gap:---> (start,end,gap)"
   ]
  },
  {
   "cell_type": "code",
   "execution_count": null,
   "id": "c4e763c4-907b-4eff-90cf-de91d44b2652",
   "metadata": {},
   "outputs": [
    {
     "name": "stdout",
     "output_type": "stream",
     "text": [
      "[ 2.   4.8  7.6 10.4 13.2 16. ]\n"
     ]
    }
   ],
   "source": [
    "print(np.linspace(2,16,6))     #(start,end,gap)   note :-->show bothelement -ve or may be +ve elements  "
   ]
  },
  {
   "cell_type": "code",
   "execution_count": null,
   "id": "6be82e57-900f-4e39-b777-9914ceb7bd76",
   "metadata": {},
   "outputs": [
    {
     "name": "stdout",
     "output_type": "stream",
     "text": [
      "[-4.         -2.85714286 -1.71428571 -0.57142857  0.57142857  1.71428571\n",
      "  2.85714286  4.        ]\n"
     ]
    }
   ],
   "source": [
    "print(np.linspace(-4,4,8))"
   ]
  },
  {
   "cell_type": "code",
   "execution_count": null,
   "id": "56c5e78d-703d-40d8-bef6-d96f166b0c51",
   "metadata": {},
   "outputs": [],
   "source": []
  },
  {
   "cell_type": "code",
   "execution_count": null,
   "id": "f3b01b8e-9016-4925-a94e-4744a9a206d5",
   "metadata": {},
   "outputs": [
    {
     "name": "stdout",
     "output_type": "stream",
     "text": [
      "[0.59552186 0.5746387  0.36932016]\n"
     ]
    }
   ],
   "source": [
    "#rand  or randf values give (0 to 1),show always =ve values \n",
    "print(np.random.rand(3))"
   ]
  },
  {
   "cell_type": "code",
   "execution_count": null,
   "id": "9034aab9-13c9-4edd-bd0b-0e1017184895",
   "metadata": {},
   "outputs": [
    {
     "name": "stdout",
     "output_type": "stream",
     "text": [
      "[0.67438669 0.61895027 0.44823313 0.91849184 0.0126672  0.5371289\n",
      " 0.34507585 0.53392736]\n"
     ]
    }
   ],
   "source": [
    "print(np.random.rand(8))\n"
   ]
  },
  {
   "cell_type": "code",
   "execution_count": null,
   "id": "c1bf8259-5780-4a09-be23-e5ede2ff99fd",
   "metadata": {},
   "outputs": [
    {
     "name": "stdout",
     "output_type": "stream",
     "text": [
      "[0.2431834  0.32496355 0.24981846 0.37835065]\n"
     ]
    }
   ],
   "source": [
    "er=np.random.rand(4)    #same method as example\n",
    "print(er)\n"
   ]
  },
  {
   "cell_type": "code",
   "execution_count": null,
   "id": "a0719a28-ef73-4bcf-acd9-ac976dfd01a6",
   "metadata": {},
   "outputs": [
    {
     "ename": "AttributeError",
     "evalue": "module 'numpy' has no attribute 'rand'",
     "output_type": "error",
     "traceback": [
      "\u001b[1;31m---------------------------------------------------------------------------\u001b[0m",
      "\u001b[1;31mAttributeError\u001b[0m                            Traceback (most recent call last)",
      "Cell \u001b[1;32mIn[12], line 1\u001b[0m\n\u001b[1;32m----> 1\u001b[0m \u001b[38;5;28mprint\u001b[39m(\u001b[43mnp\u001b[49m\u001b[38;5;241;43m.\u001b[39;49m\u001b[43mrand\u001b[49m(\u001b[38;5;241m2\u001b[39m,\u001b[38;5;241m3\u001b[39m))   \u001b[38;5;66;03m#without .random get error\u001b[39;00m\n",
      "File \u001b[1;32m~\\AppData\\Local\\Programs\\Python\\Python312\\Lib\\site-packages\\numpy\\__init__.py:347\u001b[0m, in \u001b[0;36m__getattr__\u001b[1;34m(attr)\u001b[0m\n\u001b[0;32m    344\u001b[0m     \u001b[38;5;124m\"\u001b[39m\u001b[38;5;124mRemoved in NumPy 1.25.0\u001b[39m\u001b[38;5;124m\"\u001b[39m\n\u001b[0;32m    345\u001b[0m     \u001b[38;5;28;01mraise\u001b[39;00m \u001b[38;5;167;01mRuntimeError\u001b[39;00m(\u001b[38;5;124m\"\u001b[39m\u001b[38;5;124mTester was removed in NumPy 1.25.\u001b[39m\u001b[38;5;124m\"\u001b[39m)\n\u001b[1;32m--> 347\u001b[0m \u001b[38;5;28;01mraise\u001b[39;00m \u001b[38;5;167;01mAttributeError\u001b[39;00m(\u001b[38;5;124m\"\u001b[39m\u001b[38;5;124mmodule \u001b[39m\u001b[38;5;132;01m{!r}\u001b[39;00m\u001b[38;5;124m has no attribute \u001b[39m\u001b[38;5;124m\"\u001b[39m\n\u001b[0;32m    348\u001b[0m                      \u001b[38;5;124m\"\u001b[39m\u001b[38;5;132;01m{!r}\u001b[39;00m\u001b[38;5;124m\"\u001b[39m\u001b[38;5;241m.\u001b[39mformat(\u001b[38;5;18m__name__\u001b[39m, attr))\n",
      "\u001b[1;31mAttributeError\u001b[0m: module 'numpy' has no attribute 'rand'"
     ]
    }
   ],
   "source": [
    "print(np.rand(2,3))   #without .random get error"
   ]
  },
  {
   "cell_type": "code",
   "execution_count": null,
   "id": "0a4e2413-d1d9-4cba-86e2-fc06998154e5",
   "metadata": {},
   "outputs": [
    {
     "name": "stdout",
     "output_type": "stream",
     "text": [
      "[1.33368411 1.10645187 0.42637307]\n"
     ]
    }
   ],
   "source": [
    "print(np.random.randn(3))    #value 0 to 1 bw [0,1)  may be +ve or -ve vales "
   ]
  },
  {
   "cell_type": "code",
   "execution_count": null,
   "id": "0a20fd7d-8736-48f0-9e2f-252910ff0571",
   "metadata": {},
   "outputs": [
    {
     "name": "stdout",
     "output_type": "stream",
     "text": [
      "[0.92507698]\n"
     ]
    }
   ],
   "source": [
    "h=np.random.ranf(1)       #give elements btw [0 to 1)\n",
    "print(h)"
   ]
  },
  {
   "cell_type": "code",
   "execution_count": null,
   "id": "05f1f5dd-2db4-4dfc-bf24-509a8f06b423",
   "metadata": {},
   "outputs": [
    {
     "ename": "TypeError",
     "evalue": "random_sample() takes at most 1 positional argument (2 given)",
     "output_type": "error",
     "traceback": [
      "\u001b[1;31m---------------------------------------------------------------------------\u001b[0m",
      "\u001b[1;31mTypeError\u001b[0m                                 Traceback (most recent call last)",
      "Cell \u001b[1;32mIn[19], line 1\u001b[0m\n\u001b[1;32m----> 1\u001b[0m \u001b[38;5;28mprint\u001b[39m(\u001b[43mnp\u001b[49m\u001b[38;5;241;43m.\u001b[39;49m\u001b[43mrandom\u001b[49m\u001b[38;5;241;43m.\u001b[39;49m\u001b[43mranf\u001b[49m\u001b[43m(\u001b[49m\u001b[38;5;241;43m2\u001b[39;49m\u001b[43m,\u001b[49m\u001b[38;5;241;43m3\u001b[39;49m\u001b[43m)\u001b[49m)\n",
      "File \u001b[1;32mnumpy\\\\random\\\\mtrand.pyx:4878\u001b[0m, in \u001b[0;36mnumpy.random.mtrand.ranf\u001b[1;34m()\u001b[0m\n",
      "File \u001b[1;32mnumpy\\\\random\\\\mtrand.pyx:384\u001b[0m, in \u001b[0;36mnumpy.random.mtrand.RandomState.random_sample\u001b[1;34m()\u001b[0m\n",
      "\u001b[1;31mTypeError\u001b[0m: random_sample() takes at most 1 positional argument (2 given)"
     ]
    }
   ],
   "source": [
    "         #thprs an error \n",
    "print(np.random.ranf(2,3))    #only takes one positional  elemants not 2 position elements!"
   ]
  },
  {
   "cell_type": "markdown",
   "id": "95059ef9-f0dc-4b0f-ba37-d0e526ff9126",
   "metadata": {},
   "source": [
    "#Randit"
   ]
  },
  {
   "cell_type": "code",
   "execution_count": null,
   "id": "736cc8c8-0158-4daf-98a2-b70a5ea111ef",
   "metadata": {},
   "outputs": [
    {
     "name": "stdout",
     "output_type": "stream",
     "text": [
      "[3 3 6 9 4]\n"
     ]
    }
   ],
   "source": [
    "print(np.random.randint(2,10,5))       #randint  not randit×    #Elements may or may not be reapeted and same more time "
   ]
  },
  {
   "cell_type": "code",
   "execution_count": null,
   "id": "26a876e4-745b-403e-9c79-e6813d2054d3",
   "metadata": {},
   "outputs": [
    {
     "name": "stdout",
     "output_type": "stream",
     "text": [
      "[9 2 3 8 7]\n"
     ]
    }
   ],
   "source": [
    "print(np.random.randint(1,10,5))        #positional elements must 3 [start,end,no of elements)  imp NOTE:-"
   ]
  },
  {
   "cell_type": "code",
   "execution_count": null,
   "id": "d7bd180e-c2b8-4ea5-b811-5696242640ee",
   "metadata": {},
   "outputs": [
    {
     "ename": "ValueError",
     "evalue": "high <= 0",
     "output_type": "error",
     "traceback": [
      "\u001b[1;31m---------------------------------------------------------------------------\u001b[0m",
      "\u001b[1;31mValueError\u001b[0m                                Traceback (most recent call last)",
      "Cell \u001b[1;32mIn[23], line 1\u001b[0m\n\u001b[1;32m----> 1\u001b[0m \u001b[38;5;28mprint\u001b[39m(\u001b[43mnp\u001b[49m\u001b[38;5;241;43m.\u001b[39;49m\u001b[43mrandom\u001b[49m\u001b[38;5;241;43m.\u001b[39;49m\u001b[43mrandint\u001b[49m\u001b[43m(\u001b[49m\u001b[38;5;241;43m0\u001b[39;49m\u001b[43m,\u001b[49m\u001b[38;5;241;43m0.1\u001b[39;49m\u001b[43m,\u001b[49m\u001b[38;5;241;43m5\u001b[39;49m\u001b[43m)\u001b[49m)\n",
      "File \u001b[1;32mnumpy\\\\random\\\\mtrand.pyx:779\u001b[0m, in \u001b[0;36mnumpy.random.mtrand.RandomState.randint\u001b[1;34m()\u001b[0m\n",
      "File \u001b[1;32mnumpy\\\\random\\\\_bounded_integers.pyx:2885\u001b[0m, in \u001b[0;36mnumpy.random._bounded_integers._rand_int32\u001b[1;34m()\u001b[0m\n",
      "\u001b[1;31mValueError\u001b[0m: high <= 0"
     ]
    }
   ],
   "source": [
    "print(np.random.randint(0,0.1,5))        #range decide according to your choice and no of elemets:-"
   ]
  },
  {
   "cell_type": "code",
   "execution_count": null,
   "id": "5877050b-6828-4838-b32f-ef5b4fa5ed5a",
   "metadata": {},
   "outputs": [
    {
     "name": "stdout",
     "output_type": "stream",
     "text": [
      "[2 2 2 1 2 1]\n"
     ]
    }
   ],
   "source": [
    "print(np.random.randint(1,3,6))"
   ]
  },
  {
   "cell_type": "code",
   "execution_count": null,
   "id": "02c89284-a99c-4eef-bdd2-6f0782b6e179",
   "metadata": {},
   "outputs": [
    {
     "name": "stdout",
     "output_type": "stream",
     "text": [
      "[2 2 2 2 2]\n"
     ]
    }
   ],
   "source": [
    "print(np.random.randint(2,3,5))        # all same and reapeated elem"
   ]
  },
  {
   "cell_type": "markdown",
   "id": "6873aabe-e5a1-4925-bd68-d524d2a7a329",
   "metadata": {},
   "source": [
    "#Data types "
   ]
  },
  {
   "cell_type": "code",
   "execution_count": null,
   "id": "f2e6d78e-3452-4192-8d53-ab9923f385b2",
   "metadata": {},
   "outputs": [
    {
     "name": "stdout",
     "output_type": "stream",
     "text": [
      "[6 5 2 5] dat types :- int32\n"
     ]
    }
   ],
   "source": [
    "b=np.random.randint(2,7,4)          #.dtype\n",
    "print(b,\"dat types :-\",b.dtype)    "
   ]
  },
  {
   "cell_type": "code",
   "execution_count": null,
   "id": "067c652e-4f4c-4470-bc3e-cf1cf05ddc8a",
   "metadata": {},
   "outputs": [],
   "source": []
  },
  {
   "cell_type": "code",
   "execution_count": null,
   "id": "0ca4cdd1-ecfd-471c-9a35-6f081acb5cc6",
   "metadata": {},
   "outputs": [
    {
     "name": "stdout",
     "output_type": "stream",
     "text": [
      "['e' 'r' 'G' 'Y'] data types :- <U1\n"
     ]
    }
   ],
   "source": [
    "b=np.array([\"e\",\"r\",\"G\",\"Y\"])          #.dtype\n",
    "print(b,\"data types :-\",b.dtype)      #string represent as ,U1"
   ]
  },
  {
   "cell_type": "code",
   "execution_count": null,
   "id": "1de63fee-eaf6-43c1-a6ca-2a18fe670b76",
   "metadata": {},
   "outputs": [
    {
     "ename": "NameError",
     "evalue": "name 'd' is not defined",
     "output_type": "error",
     "traceback": [
      "\u001b[1;31m---------------------------------------------------------------------------\u001b[0m",
      "\u001b[1;31mNameError\u001b[0m                                 Traceback (most recent call last)",
      "Cell \u001b[1;32mIn[11], line 1\u001b[0m\n\u001b[1;32m----> 1\u001b[0m f\u001b[38;5;241m=\u001b[39mnp\u001b[38;5;241m.\u001b[39marray([\u001b[43md\u001b[49m,f,y,r,h])\n\u001b[0;32m      2\u001b[0m \u001b[38;5;28mprint\u001b[39m(f,\u001b[38;5;124m\"\u001b[39m\u001b[38;5;124mdata types :-\u001b[39m\u001b[38;5;124m\"\u001b[39m, f\u001b[38;5;241m.\u001b[39mdtype)\n",
      "\u001b[1;31mNameError\u001b[0m: name 'd' is not defined"
     ]
    }
   ],
   "source": [
    "f=np.array([d,f,y,r,h])       #throw an error without double cout\n",
    "print(f,\"data types :-\", f.dtype)"
   ]
  },
  {
   "cell_type": "markdown",
   "id": "f3f1ccdd-29e0-4675-9a70-792b1c6a05d5",
   "metadata": {},
   "source": [
    "#convert  data types!"
   ]
  },
  {
   "cell_type": "code",
   "execution_count": null,
   "id": "0aa798d2-c632-4af9-b052-8f7d41d46710",
   "metadata": {},
   "outputs": [
    {
     "name": "stdout",
     "output_type": "stream",
     "text": [
      "['1' '2' '3' 'E' 'f' 'j'] data type <U11\n"
     ]
    }
   ],
   "source": [
    "d=np.array([1,2,3,\"E\",\"f\",\"j\"])      #combination of letters and integers is <U11\n",
    "print(d,\"data type\",d.dtype)"
   ]
  },
  {
   "cell_type": "code",
   "execution_count": null,
   "id": "876215de-17b4-4fbc-8696-5160164529a4",
   "metadata": {},
   "outputs": [
    {
     "name": "stdout",
     "output_type": "stream",
     "text": [
      "[1. 2. 3. 4.]\n"
     ]
    }
   ],
   "source": [
    "p=np.array([1,2,3,4])     #data convert into float 32bits\n",
    "x=np.float32(p)\n",
    "print(x)"
   ]
  },
  {
   "cell_type": "code",
   "execution_count": null,
   "id": "af2b4c02-c25b-4e60-8efa-61a9e4436701",
   "metadata": {},
   "outputs": [
    {
     "name": "stdout",
     "output_type": "stream",
     "text": [
      "[1 2 3 4]\n",
      "convert datatye is float :- \n",
      "[1. 2. 3. 4.]\n"
     ]
    }
   ],
   "source": [
    "z=np.array([1,2,3,4])\n",
    "print(z)\n",
    "print(\"convert datatye is float :- \")\n",
    "j=z.astype(float)\n",
    "print(j)"
   ]
  },
  {
   "cell_type": "code",
   "execution_count": null,
   "id": "7d8f9e59-2e26-492d-be97-92222cbbcf3e",
   "metadata": {},
   "outputs": [],
   "source": []
  }
 ],
 "metadata": {
  "kernelspec": {
   "display_name": "Python 3 (ipykernel)",
   "language": "python",
   "name": "python3"
  },
  "language_info": {
   "codemirror_mode": {
    "name": "ipython",
    "version": 3
   },
   "file_extension": ".py",
   "mimetype": "text/x-python",
   "name": "python",
   "nbconvert_exporter": "python",
   "pygments_lexer": "ipython3",
   "version": "3.12.0"
  }
 },
 "nbformat": 4,
 "nbformat_minor": 5
}
