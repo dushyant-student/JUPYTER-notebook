{
 "cells": [
  {
   "cell_type": "code",
   "execution_count": null,
   "id": "c56830aa-6abc-4402-9402-586d7b53f3a1",
   "metadata": {},
   "outputs": [],
   "source": [
    "n1=np.array([1,2,3,4])\n",
    "n2=np.array([1,2,3,4])\n",
    "mult=np.multiply(n1,n2)\n",
    "print(mult)"
   ]
  }
 ],
 "metadata": {
  "kernelspec": {
   "display_name": "Python 3 (ipykernel)",
   "language": "python",
   "name": "python3"
  },
  "language_info": {
   "codemirror_mode": {
    "name": "ipython",
    "version": 3
   },
   "file_extension": ".py",
   "mimetype": "text/x-python",
   "name": "python",
   "nbconvert_exporter": "python",
   "pygments_lexer": "ipython3",
   "version": "3.12.0"
  }
 },
 "nbformat": 4,
 "nbformat_minor": 5
}
